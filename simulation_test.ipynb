{
 "cells": [
  {
   "cell_type": "code",
   "execution_count": 1,
   "metadata": {
    "collapsed": false,
    "scrolled": true
   },
   "outputs": [
    {
     "name": "stdout",
     "output_type": "stream",
     "text": [
      "pygame 1.9.4\n",
      "Hello from the pygame community. https://www.pygame.org/contribute.html\n"
     ]
    }
   ],
   "source": [
    "import pygame\n",
    "import sys\n",
    "import time\n",
    "import random\n",
    "\n",
    "import pygame.locals as pgl\n",
    "\n",
    "import numpy as np\n",
    "\n",
    "import networkx as nx\n",
    "import epydemic\n",
    "\n",
    "from custom_disease_model import Kennels, DistemperModel\n",
    "# from aggregate_visualization import AggregatePlot\n",
    "\n",
    "from copy import copy, deepcopy\n",
    "\n",
    "from threading import Thread\n",
    "\n",
    "import logging\n",
    "\n",
    "import multiprocessing\n",
    "from multiprocessing import Pool\n",
    "\n",
    "import tqdm\n",
    "\n",
    "import pandas as pd\n",
    "import seaborn as sns\n",
    "\n",
    "import matplotlib.pyplot as plt\n",
    "\n",
    "from matplotlib import cm\n",
    "\n",
    "from interventions import SortIntervention, TimedRemovalIntervention, RoomLockIntervention\n",
    "\n",
    "class Simulation(object):\n",
    "    \n",
    "    def __init__(self, params, spatial_visualization=True, aggregate_visualization=True, return_on_equillibrium=False):\n",
    "        self.return_on_equillibrium = return_on_equillibrium\n",
    "        self.spatial_visualization = spatial_visualization\n",
    "        self.aggregate_visualization = aggregate_visualization\n",
    "\n",
    "        if not self.spatial_visualization and not self.aggregate_visualization and not self.return_on_equillibrium:\n",
    "            logging.warning('Warning: No visualizations were set, it is highly recommended you set return_on_equillibrium to True otherwise you will have to manually manage the simulation state.')\n",
    "\n",
    "        self.params = params\n",
    "        if 'infection_kernel_function' in self.params and type(self.params['infection_kernel_function']) == str:\n",
    "            self.params['infection_kernel_function'] = eval(self.params['infection_kernel_function'])\n",
    "        else:\n",
    "            self.params['infection_kernel_function'] = lambda node, k: 0.0\n",
    "        if 'intervention' in self.params and type(self.params['intervention']) == str:\n",
    "            self.params['intervention'] = eval(self.params['intervention'])\n",
    "        else:\n",
    "            self.params['intervention'] = None\n",
    "        self.kennels = Kennels()\n",
    "        self.disease = DistemperModel(self.kennels.get_graph(), self.params)\n",
    "\n",
    "        self.update_hooks = []\n",
    "\n",
    "#         if spatial_visualization:\n",
    "#             self.FPS = 0\n",
    "#             self.SCREEN_WIDTH, self.SCREEN_HEIGHT = 640, 480\n",
    "#             pygame.init()\n",
    "#             self.fpsClock = pygame.time.Clock()\n",
    "#             self.screen = pygame.display.set_mode((self.SCREEN_WIDTH, self.SCREEN_HEIGHT), 0, 32)\n",
    "#             self.surface = pygame.Surface(self.screen.get_size())\n",
    "#             self.surface = self.surface.convert()\n",
    "#             self.surface.fill((255,255,255))\n",
    "#             self.clock = pygame.time.Clock()\n",
    "\n",
    "#             pygame.key.set_repeat(1, 40)\n",
    "        \n",
    "#             self.screen.blit(self.surface, (0,0))\n",
    "\n",
    "#             self.font = pygame.font.Font(None, 36)\n",
    "        \n",
    "#         if aggregate_visualization:\n",
    "#             self.plt = AggregatePlot(self.disease, self.kennels)\n",
    "#             self.update_hooks.append(self.plt.update)\n",
    "\n",
    "    def check_events(self):\n",
    "        for event in pygame.event.get():\n",
    "            if event.type == pgl.QUIT:\n",
    "                pygame.quit()\n",
    "                sys.exit()\n",
    "            elif event.type == pgl.KEYDOWN:\n",
    "                if event.key == pgl.K_ESCAPE:\n",
    "                    pygame.quit()\n",
    "                    sys.exit()\n",
    "\n",
    "    def redraw(self):\n",
    "        self.screen.blit(self.surface, (0,0))\n",
    "        pygame.display.flip()\n",
    "        pygame.display.update()\n",
    "        self.fpsClock.tick(self.FPS)\n",
    "\n",
    "    def draw_ui(self):\n",
    "        text = self.font.render('{0} days, {1} hours'.format(int(np.floor(self.disease.t/24.0)), self.disease.t%24), 1, (10, 10, 10))\n",
    "        textpos = text.get_rect()\n",
    "        textpos.centerx = 200\n",
    "        self.surface.blit(text, textpos)\n",
    "\n",
    "    def get_disease_state(self):\n",
    "        return {sc: len(self.disease.get_state_node(sc)['members']) for sc in self.disease.id_map.keys()}\n",
    "        \n",
    "    def update(self):\n",
    "        if self.spatial_visualization:\n",
    "            self.check_events()\n",
    "            self.surface.fill((255,255,255))\n",
    "\n",
    "        if not self.disease.in_equilibrium():\n",
    "            if 'intervention' in self.params and self.params['intervention'] != None:\n",
    "                self.params['intervention'].update(simulation=self)\n",
    "            self.disease.update(self.kennels)\n",
    "        elif self.return_on_equillibrium:\n",
    "            self.running = False\n",
    "            return\n",
    "\n",
    "        for hook in self.update_hooks:\n",
    "            print(hook)\n",
    "            hook()\n",
    "        \n",
    "        if self.spatial_visualization:\n",
    "            self.kennels.draw(self.surface, self.disease)\n",
    "            self.draw_ui()\n",
    "            self.redraw()\n",
    "    \n",
    "    def stop(self):\n",
    "        self.running = False\n",
    "\n",
    "    def run(self, asynchronous=False):\n",
    "        self.running = True\n",
    "        if asynchronous:\n",
    "            self.async_thread = Thread(target=self.run, args=(False,))\n",
    "            self.async_thread.start()\n",
    "        else:\n",
    "            while self.running:\n",
    "                self.update()\n",
    "            return self.get_disease_state()\n",
    "\n",
    "class BatchSimulation(object):\n",
    "    def __init__(self, params, runs, pool_size=-1):\n",
    "        self.params = params\n",
    "        self.runs = runs\n",
    "        if pool_size == None:\n",
    "            self.pool_size = 1\n",
    "        elif pool_size <= 0:\n",
    "            self.pool_size = multiprocessing.cpu_count()\n",
    "        \n",
    "    def run(self):\n",
    "        results = []\n",
    "        with Pool(self.pool_size) as p:\n",
    "            for i in tqdm.tqdm(p.imap_unordered(BatchSimulation.run_simulation, [deepcopy(self.params) for _ in range(0, self.runs)]), total=self.runs):\n",
    "                results.append(i)\n",
    "            p.close()\n",
    "            p.join()\n",
    "        return results\n",
    "            \n",
    "    @staticmethod\n",
    "    def run_simulation(params):\n",
    "        return Simulation(params, spatial_visualization=False, aggregate_visualization=False, return_on_equillibrium=True).run()\n",
    "\n",
    "def main(batch=False):\n",
    "    params = {\n",
    "            'pIntake': 0.25,\n",
    "            'pInfect': 0.04,\n",
    "            'pSurvive': 0.0025,\n",
    "            'pDie': 0.0058333333333333,\n",
    "            'pDieAlternate': 0.0,\n",
    "            'refractoryPeriod': 3.0*24.0,\n",
    "            'infection_kernel': [0.5, 0.25],\n",
    "            'infection_kernel_function': 'lambda node, k: k*(1-node[\\'occupant\\'][\\'immunity\\'])',\n",
    "            'immunity_growth_factors': [1.03, 0.001], # _[0]*immunity+_[1]\n",
    "            'intervention': 'SortIntervention()'\n",
    "        }\n",
    "    if not batch:\n",
    "        sim = Simulation(params, spatial_visualization=True, return_on_equillibrium=False, aggregate_visualization=False)\n",
    "#         print(sim.run())\n",
    "    else:\n",
    "        runs = 32\n",
    "        bar_width = 0.35\n",
    "        proportion = True\n",
    "        colors = [cm.jet(0), cm.jet(0.5)]\n",
    "        alphas = [0.5, 0.25]\n",
    "        labels = ['Sort Intervention', 'No Intervention']\n",
    "        \n",
    "        params1 = copy(params)\n",
    "        params1['intervention'] = None\n",
    "        \n",
    "        results = BatchSimulation(params, runs).run()\n",
    "\n",
    "        total = sum(list(results[0].values()))\n",
    "        df = pd.DataFrame.from_records(results)\n",
    "        if proportion:\n",
    "            df /= total\n",
    "        \n",
    "        plt.rcdefaults()\n",
    "\n",
    "        objects = df.columns\n",
    "        y_pos = np.arange(len(objects))\n",
    "        \n",
    "        plt.bar(y_pos-bar_width/2, df.mean(), bar_width, align='center', alpha=alphas[0], yerr=df.std()/np.sqrt(len(df)), color=colors[0], label=labels[0])\n",
    "        \n",
    "        results = BatchSimulation(params1, runs).run()\n",
    "        df = pd.DataFrame.from_records(results)\n",
    "        if proportion:\n",
    "            df /= total\n",
    "        plt.bar(y_pos+bar_width/2, df.mean(), bar_width, align='center', alpha=alphas[1], yerr=df.std()/np.sqrt(len(df)), color=colors[1], label=labels[1])\n",
    "\n",
    "        plt.xticks(y_pos, objects)\n",
    "        plt.ylabel('Mean Animal Count')\n",
    "        plt.ylim(0, 1)\n",
    "        plt.title('Average Simulation Performance')\n",
    "        plt.legend()\n",
    "\n",
    "        plt.show()\n",
    "    "
   ]
  },
  {
   "cell_type": "code",
   "execution_count": null,
   "metadata": {
    "collapsed": false
   },
   "outputs": [],
   "source": []
  },
  {
   "cell_type": "code",
   "execution_count": 6,
   "metadata": {
    "collapsed": false
   },
   "outputs": [],
   "source": [
    "def average_simulation(params,runs=10,simulation_time=np.arange(1,10)):\n",
    "    \"\"\" Script to run simulation with a specific type of intervention multiple times and average the data \n",
    "        \n",
    "        Arguments:\n",
    "            params {dict} -- current parameter settings\n",
    "            runs {int} -- number of times to run simulation and then averaged\n",
    "            simulation_time {array} -- how long to run simulation for\n",
    "        Outputs:\n",
    "            results {pandas.core.groupby.DataFrameGroupBy} -- results grouped by day with each column as a state (i.e. D,E,etc)\n",
    "    \"\"\"\n",
    "    \n",
    "    for run in range(runs):\n",
    "        if run == 0: \n",
    "            sim = Simulation(params, spatial_visualization=False, return_on_equillibrium=True, aggregate_visualization=False)\n",
    "        else: \n",
    "            del(sim)\n",
    "            sim = Simulation(params, spatial_visualization=False, return_on_equillibrium=True, aggregate_visualization=False)\n",
    "        df_tmp = pd.DataFrame(sim.get_disease_state(),index=[0])\n",
    "        for simul_time in simulation_time:\n",
    "            sim.update()\n",
    "            tmp = pd.DataFrame(sim.get_disease_state(),index=[simul_time])\n",
    "            df_tmp = df_tmp.append(tmp)\n",
    "            try:\n",
    "                df_concat = df_concat.append((tmp))\n",
    "            except:\n",
    "                df_concat = df_tmp\n",
    "    results = df_concat.groupby(df_concat.index)\n",
    "    return results"
   ]
  },
  {
   "cell_type": "code",
   "execution_count": 9,
   "metadata": {
    "collapsed": false
   },
   "outputs": [],
   "source": [
    "def error_function(optimize_params, time, actual_data, runs):\n",
    "    \"\"\" Model to calculate the difference between simulated and actual data (need to pick category to define error)\n",
    "            or technically could make some linear combination of all categories\n",
    "        Arguments:\n",
    "            optimize_params {dictionary} -- list of parameters to use in optimization\n",
    "            time {array} -- time length of simulation\n",
    "            actual_data {array} -- array of data from real simulation\n",
    "            runs {int} -- # of runs to average over\n",
    "        Outputs:\n",
    "            error {float} -- inner product between two curves\n",
    "    \"\"\"\n",
    "    \n",
    "    params = {\n",
    "        'pIntake': optimize_params['pIntake'],\n",
    "        'pInfect': optimize_params['pInfect'],\n",
    "        'pSurvive': optimize_params['pSurvive'],\n",
    "        'pDie': optimize_params['pDie'],\n",
    "        'pDieAlternate': optimize_params['pDieAlternate'],\n",
    "        'refractoryPeriod': optimize_params['refractoryPeriod'],\n",
    "        'infection_kernel': [0.5, 0.25],\n",
    "        'infection_kernel_function': 'lambda node, k: k*(1-node[\\'occupant\\'][\\'immunity\\'])',\n",
    "        'immunity_growth_factors': [1.03, 0.001], # _[0]*immunity+_[1]\n",
    "        'intervention': 'SortIntervention()'\n",
    "    }\n",
    "    results = average_simulation(params,runs,time)\n",
    "    empty_results = results.E.mean()\n",
    "    infected_results = results.I.mean()\n",
    "    simulated_data = infected_results\n",
    "#     actual_data = np.ones(len(simulated_data))\n",
    "    diff = simulated_data - actual_data\n",
    "    return diff"
   ]
  },
  {
   "cell_type": "code",
   "execution_count": 47,
   "metadata": {
    "collapsed": false,
    "scrolled": true
   },
   "outputs": [],
   "source": [
    "# Parameter fitting based on real data\n",
    "from lmfit import Minimizer, Parameters, report_fit\n",
    "\n",
    "params = {\n",
    "        'pIntake': 0.25,\n",
    "        'pInfect': 0.04,\n",
    "        'pSurvive': 0.0025,\n",
    "        'pDie': 0.0058333333333333,\n",
    "        'pDieAlternate': 0.0,\n",
    "        'refractoryPeriod': 3.0*24.0,\n",
    "        'infection_kernel': [0.5, 0.25],\n",
    "        'infection_kernel_function': 'lambda node, k: k*(1-node[\\'occupant\\'][\\'immunity\\'])',\n",
    "        'immunity_growth_factors': [1.03, 0.001], # _[0]*immunity+_[1]\n",
    "        'intervention': 'SortIntervention()'\n",
    "    }\n",
    "\n",
    "# Add parameters to try and optimize\n",
    "optimize_params = Parameters()\n",
    "optimize_params.add('pIntake',value=params['pIntake'], min=0)\n",
    "optimize_params.add('pInfect',value=params['pInfect'], min=0)\n",
    "optimize_params.add('pSurvive',value=params['pSurvive'], min=0)\n",
    "optimize_params.add('pDie',value=params['pDie'], min=0)\n",
    "optimize_params.add('pDieAlternate',value=params['pDieAlternate'], min=0)\n",
    "optimize_params.add('refractoryPeriod',value=params['refractoryPeriod'], min=0)\n",
    "\n",
    "time = np.arange(0,10)\n",
    "# Put in actual data when get it\n",
    "data = 96*np.random.rand(len(time))\n",
    "# data = tmp[:len(time)]\n",
    "runs = 10\n",
    "# do fit, here with leastsq model\n",
    "minner = Minimizer(error_function, optimize_params, fcn_args=(time, data, runs))\n",
    "result = minner.minimize()"
   ]
  },
  {
   "cell_type": "code",
   "execution_count": null,
   "metadata": {
    "collapsed": false
   },
   "outputs": [],
   "source": []
  },
  {
   "cell_type": "code",
   "execution_count": 46,
   "metadata": {
    "collapsed": false,
    "scrolled": true
   },
   "outputs": [
    {
     "name": "stdout",
     "output_type": "stream",
     "text": [
      "[[Fit Statistics]]\n",
      "    # fitting method   = leastsq\n",
      "    # function evals   = 8\n",
      "    # data points      = 10\n",
      "    # variables        = 6\n",
      "    chi-square         = 58.7529534\n",
      "    reduced chi-square = 14.6882383\n",
      "    Akaike info crit   = 29.7075633\n",
      "    Bayesian info crit = 31.5230739\n",
      "[[Variables]]\n",
      "    pIntake:           0.24999998 +/- 4.7712e-08 (0.00%) (init = 0.25)\n",
      "    pInfect:           0.04000000 +/- 6.5644e-09 (0.00%) (init = 0.04)\n",
      "    pSurvive:          0.00250000 +/- 3.3765e-10 (0.00%) (init = 0.0025)\n",
      "    pDie:              0.00583333 +/- 5.2783e-10 (0.00%) (init = 0.005833333)\n",
      "    pDieAlternate:     2.2204e-16 +/- 0.00000000 (0.00%) (init = 0)\n",
      "    refractoryPeriod:  72.0000010 +/- 4.9904e-06 (0.00%) (init = 72)\n",
      "[[Correlations]] (unreported correlations are < 0.100)\n",
      "    C(pDie, refractoryPeriod)     = -0.860\n",
      "    C(pInfect, refractoryPeriod)  =  0.815\n",
      "    C(pInfect, pDie)              = -0.788\n",
      "    C(pIntake, pDie)              =  0.655\n",
      "    C(pIntake, refractoryPeriod)  = -0.624\n",
      "    C(pInfect, pSurvive)          = -0.490\n",
      "    C(pIntake, pSurvive)          = -0.371\n",
      "    C(pSurvive, refractoryPeriod) = -0.262\n",
      "    C(pIntake, pInfect)           = -0.257\n"
     ]
    },
    {
     "data": {
      "image/png": "[encoded data removed]",
      "text/plain": [
       "<matplotlib.figure.Figure at 0x7f25ff0476d8>"
      ]
     },
     "metadata": {
      "needs_background": "light"
     },
     "output_type": "display_data"
    }
   ],
   "source": [
    "# calculate final result\n",
    "final = data + result.residual\n",
    "\n",
    "# write error report\n",
    "report_fit(result)\n",
    "\n",
    "# try to plot results\n",
    "try:\n",
    "    import matplotlib.pyplot as plt\n",
    "    plt.plot(time, data, 'k+')\n",
    "    plt.plot(time, final, 'r')\n",
    "    plt.show()\n",
    "except ImportError:\n",
    "    pass"
   ]
  },
  {
   "cell_type": "code",
   "execution_count": null,
   "metadata": {
    "collapsed": false
   },
   "outputs": [],
   "source": []
  },
  {
   "cell_type": "code",
   "execution_count": null,
   "metadata": {
    "collapsed": false
   },
   "outputs": [],
   "source": []
  },
  {
   "cell_type": "code",
   "execution_count": null,
   "metadata": {
    "collapsed": false
   },
   "outputs": [],
   "source": []
  },
  {
   "cell_type": "code",
   "execution_count": 49,
   "metadata": {
    "collapsed": false,
    "scrolled": true
   },
   "outputs": [],
   "source": [
    "# Run simulation multiple times and average results for each type of intervention\n",
    "results = {}\n",
    "simulation_time = np.arange(1,50)\n",
    "runs = 5\n",
    "Interventions = [None] # ['SortIntervention()','RoomLockIntervention()']\n",
    "Interventions = ['SortIntervention()'] #,'RoomLockIntervention()']\n",
    "for intervention in Interventions:\n",
    "    params['intervention'] = intervention\n",
    "    results[intervention] = average_simulation(params,runs,simulation_time)"
   ]
  },
  {
   "cell_type": "code",
   "execution_count": 35,
   "metadata": {
    "collapsed": false
   },
   "outputs": [],
   "source": [
    "tmp = results['SortIntervention()'].mean()['I'].values\n",
    "tmp += np.random.rand(len(tmp))"
   ]
  },
  {
   "cell_type": "code",
   "execution_count": 50,
   "metadata": {
    "collapsed": false
   },
   "outputs": [
    {
     "name": "stderr",
     "output_type": "stream",
     "text": [
      "/mnt/c/Users/Awesome/anaconda3/lib/python3.5/site-packages/matplotlib/figure.py:1743: UserWarning: This figure includes Axes that are not compatible with tight_layout, so its results might be incorrect.\n",
      "  warnings.warn(\"This figure includes Axes that are not \"\n"
     ]
    },
    {
     "data": {
      "image/png": "[encoded data removed]",
      "text/plain": [
       "<matplotlib.figure.Figure at 0x7f25ff5422b0>"
      ]
     },
     "metadata": {
      "needs_background": "light"
     },
     "output_type": "display_data"
    }
   ],
   "source": [
    "Fig, ax = plt.subplots(5,figsize = (10,10))\n",
    "for intervention in Interventions:\n",
    "    df_means = results[intervention].mean()\n",
    "    df_std = results[intervention].std()\n",
    "    x = np.array(df_means.index)\n",
    "    for idx,col in enumerate(df_means.columns):\n",
    "        y = df_means[col]\n",
    "        y_low = df_means[col] - df_std[col]\n",
    "        y_high = df_means[col] + df_std[col]\n",
    "        ax[idx].plot(x,y,label=intervention)\n",
    "        ax[idx].fill_between(x,y_low,y_high,alpha=0.2)\n",
    "        ax[idx].set_ylabel(col)\n",
    "        \n",
    "for aa in ax:\n",
    "    aa.legend()\n",
    "Fig.set_tight_layout('tight')"
   ]
  },
  {
   "cell_type": "code",
   "execution_count": null,
   "metadata": {
    "collapsed": false
   },
   "outputs": [],
   "source": []
  },
  {
   "cell_type": "code",
   "execution_count": null,
   "metadata": {
    "collapsed": true
   },
   "outputs": [],
   "source": []
  },
  {
   "cell_type": "code",
   "execution_count": null,
   "metadata": {
    "collapsed": true
   },
   "outputs": [],
   "source": []
  },
  {
   "cell_type": "code",
   "execution_count": null,
   "metadata": {
    "collapsed": false
   },
   "outputs": [],
   "source": []
  },
  {
   "cell_type": "code",
   "execution_count": null,
   "metadata": {
    "collapsed": false
   },
   "outputs": [],
   "source": []
  },
  {
   "cell_type": "code",
   "execution_count": null,
   "metadata": {
    "collapsed": true
   },
   "outputs": [],
   "source": []
  }
 ],
 "metadata": {
  "anaconda-cloud": {},
  "kernelspec": {
   "display_name": "Python [Root]",
   "language": "python",
   "name": "Python [Root]"
  },
  "language_info": {
   "codemirror_mode": {
    "name": "ipython",
    "version": 3
   },
   "file_extension": ".py",
   "mimetype": "text/x-python",
   "name": "python",
   "nbconvert_exporter": "python",
   "pygments_lexer": "ipython3",
   "version": "3.5.2"
  }
 },
 "nbformat": 4,
 "nbformat_minor": 2
}
